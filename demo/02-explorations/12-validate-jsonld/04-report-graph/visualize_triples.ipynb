{
 "cells": [
  {
   "cell_type": "code",
   "execution_count": 1,
   "metadata": {},
   "outputs": [],
   "source": [
    "import pandas as pd\n",
    "import networkx as nx\n",
    "from yfiles_jupyter_graphs import GraphWidget"
   ]
  },
  {
   "cell_type": "code",
   "execution_count": 2,
   "metadata": {},
   "outputs": [],
   "source": [
    "# Load triples of the given TRO TRO Declaration\n",
    "triples = pd.read_csv(\"products/triples.csv\")\n",
    "triples[\"error_flag\"] = \"\"\n",
    "triples[\"error_msg\"] = \"\"\n",
    "# Load triples to NetworkX's graph\n",
    "# Reference: https://github.com/yWorks/yfiles-jupyter-graphs/blob/main/examples/import_from_networkx.ipynb\n",
    "G = nx.from_pandas_edgelist(triples, source=\"source\", target=\"target\", edge_attr=[\"label\", \"error_flag\", \"error_msg\"], create_using=nx.DiGraph())\n",
    "# Add an error manually: the (artifact/100, trov#ResearchArtifact) edge should exist\n",
    "G.add_edge(\"composition/1/artifact/100\", \"trov#ResearchArtifact\", label=\"rdf#type\", error_flag=\"ERROR\", error_msg=\"This edge should exist.\")\n",
    "# Visualize graph with YFile\n",
    "w = GraphWidget(graph = G)"
   ]
  },
  {
   "cell_type": "code",
   "execution_count": 3,
   "metadata": {},
   "outputs": [
    {
     "data": {
      "application/vnd.jupyter.widget-view+json": {
       "model_id": "3d882447c9ba4356a6fe36a092a9c414",
       "version_major": 2,
       "version_minor": 0
      },
      "text/plain": [
       "GraphWidget(layout=Layout(height='500px', width='100%'))"
      ]
     },
     "metadata": {},
     "output_type": "display_data"
    }
   ],
   "source": [
    "def custom_edge_color_mapping(index, edge):\n",
    "    if edge[\"properties\"][\"error_flag\"] == \"ERROR\":\n",
    "        color = \"#E26A6A\"\n",
    "    else:\n",
    "        color = \"#58BBBA\"\n",
    "    return color\n",
    "w.set_edge_color_mapping(custom_edge_color_mapping)\n",
    "w.show()"
   ]
  },
  {
   "cell_type": "code",
   "execution_count": null,
   "metadata": {},
   "outputs": [],
   "source": []
  }
 ],
 "metadata": {
  "kernelspec": {
   "display_name": "python3",
   "language": "python",
   "name": "python3"
  },
  "language_info": {
   "codemirror_mode": {
    "name": "ipython",
    "version": 3
   },
   "file_extension": ".py",
   "mimetype": "text/x-python",
   "name": "python",
   "nbconvert_exporter": "python",
   "pygments_lexer": "ipython3",
   "version": "3.7.15"
  },
  "orig_nbformat": 4
 },
 "nbformat": 4,
 "nbformat_minor": 2
}
